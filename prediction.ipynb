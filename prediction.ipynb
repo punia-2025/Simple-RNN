{
 "cells": [
  {
   "cell_type": "code",
   "execution_count": 23,
   "metadata": {},
   "outputs": [],
   "source": [
    "# Step 1: Import Libraries and Load the Model\n",
    "import numpy as np\n",
    "import tensorflow as tf\n",
    "from tensorflow.keras.datasets import imdb\n",
    "from tensorflow.keras.preprocessing import sequence\n",
    "from tensorflow.keras.models import load_model"
   ]
  },
  {
   "cell_type": "code",
   "execution_count": 24,
   "metadata": {},
   "outputs": [],
   "source": [
    "\n",
    "# Load the IMDB dataset word index\n",
    "word_index = imdb.get_word_index()\n",
    "reverse_word_index = {value: key for key, value in word_index.items()}"
   ]
  },
  {
   "cell_type": "code",
   "execution_count": 25,
   "metadata": {},
   "outputs": [
    {
     "name": "stderr",
     "output_type": "stream",
     "text": [
      "WARNING:absl:Compiled the loaded model, but the compiled metrics have yet to be built. `model.compile_metrics` will be empty until you train or evaluate the model.\n"
     ]
    },
    {
     "data": {
      "text/html": [
       "<pre style=\"white-space:pre;overflow-x:auto;line-height:normal;font-family:Menlo,'DejaVu Sans Mono',consolas,'Courier New',monospace\"><span style=\"font-weight: bold\">Model: \"sequential_7\"</span>\n",
       "</pre>\n"
      ],
      "text/plain": [
       "\u001b[1mModel: \"sequential_7\"\u001b[0m\n"
      ]
     },
     "metadata": {},
     "output_type": "display_data"
    },
    {
     "data": {
      "text/html": [
       "<pre style=\"white-space:pre;overflow-x:auto;line-height:normal;font-family:Menlo,'DejaVu Sans Mono',consolas,'Courier New',monospace\">┏━━━━━━━━━━━━━━━━━━━━━━━━━━━━━━━━━┳━━━━━━━━━━━━━━━━━━━━━━━━┳━━━━━━━━━━━━━━━┓\n",
       "┃<span style=\"font-weight: bold\"> Layer (type)                    </span>┃<span style=\"font-weight: bold\"> Output Shape           </span>┃<span style=\"font-weight: bold\">       Param # </span>┃\n",
       "┡━━━━━━━━━━━━━━━━━━━━━━━━━━━━━━━━━╇━━━━━━━━━━━━━━━━━━━━━━━━╇━━━━━━━━━━━━━━━┩\n",
       "│ embedding_8 (<span style=\"color: #0087ff; text-decoration-color: #0087ff\">Embedding</span>)         │ (<span style=\"color: #00d7ff; text-decoration-color: #00d7ff\">None</span>, <span style=\"color: #00af00; text-decoration-color: #00af00\">500</span>, <span style=\"color: #00af00; text-decoration-color: #00af00\">128</span>)       │     <span style=\"color: #00af00; text-decoration-color: #00af00\">1,280,000</span> │\n",
       "├─────────────────────────────────┼────────────────────────┼───────────────┤\n",
       "│ simple_rnn_8 (<span style=\"color: #0087ff; text-decoration-color: #0087ff\">SimpleRNN</span>)        │ (<span style=\"color: #00d7ff; text-decoration-color: #00d7ff\">None</span>, <span style=\"color: #00af00; text-decoration-color: #00af00\">128</span>)            │        <span style=\"color: #00af00; text-decoration-color: #00af00\">32,896</span> │\n",
       "├─────────────────────────────────┼────────────────────────┼───────────────┤\n",
       "│ dense_7 (<span style=\"color: #0087ff; text-decoration-color: #0087ff\">Dense</span>)                 │ (<span style=\"color: #00d7ff; text-decoration-color: #00d7ff\">None</span>, <span style=\"color: #00af00; text-decoration-color: #00af00\">1</span>)              │           <span style=\"color: #00af00; text-decoration-color: #00af00\">129</span> │\n",
       "└─────────────────────────────────┴────────────────────────┴───────────────┘\n",
       "</pre>\n"
      ],
      "text/plain": [
       "┏━━━━━━━━━━━━━━━━━━━━━━━━━━━━━━━━━┳━━━━━━━━━━━━━━━━━━━━━━━━┳━━━━━━━━━━━━━━━┓\n",
       "┃\u001b[1m \u001b[0m\u001b[1mLayer (type)                   \u001b[0m\u001b[1m \u001b[0m┃\u001b[1m \u001b[0m\u001b[1mOutput Shape          \u001b[0m\u001b[1m \u001b[0m┃\u001b[1m \u001b[0m\u001b[1m      Param #\u001b[0m\u001b[1m \u001b[0m┃\n",
       "┡━━━━━━━━━━━━━━━━━━━━━━━━━━━━━━━━━╇━━━━━━━━━━━━━━━━━━━━━━━━╇━━━━━━━━━━━━━━━┩\n",
       "│ embedding_8 (\u001b[38;5;33mEmbedding\u001b[0m)         │ (\u001b[38;5;45mNone\u001b[0m, \u001b[38;5;34m500\u001b[0m, \u001b[38;5;34m128\u001b[0m)       │     \u001b[38;5;34m1,280,000\u001b[0m │\n",
       "├─────────────────────────────────┼────────────────────────┼───────────────┤\n",
       "│ simple_rnn_8 (\u001b[38;5;33mSimpleRNN\u001b[0m)        │ (\u001b[38;5;45mNone\u001b[0m, \u001b[38;5;34m128\u001b[0m)            │        \u001b[38;5;34m32,896\u001b[0m │\n",
       "├─────────────────────────────────┼────────────────────────┼───────────────┤\n",
       "│ dense_7 (\u001b[38;5;33mDense\u001b[0m)                 │ (\u001b[38;5;45mNone\u001b[0m, \u001b[38;5;34m1\u001b[0m)              │           \u001b[38;5;34m129\u001b[0m │\n",
       "└─────────────────────────────────┴────────────────────────┴───────────────┘\n"
      ]
     },
     "metadata": {},
     "output_type": "display_data"
    },
    {
     "data": {
      "text/html": [
       "<pre style=\"white-space:pre;overflow-x:auto;line-height:normal;font-family:Menlo,'DejaVu Sans Mono',consolas,'Courier New',monospace\"><span style=\"font-weight: bold\"> Total params: </span><span style=\"color: #00af00; text-decoration-color: #00af00\">1,313,027</span> (5.01 MB)\n",
       "</pre>\n"
      ],
      "text/plain": [
       "\u001b[1m Total params: \u001b[0m\u001b[38;5;34m1,313,027\u001b[0m (5.01 MB)\n"
      ]
     },
     "metadata": {},
     "output_type": "display_data"
    },
    {
     "data": {
      "text/html": [
       "<pre style=\"white-space:pre;overflow-x:auto;line-height:normal;font-family:Menlo,'DejaVu Sans Mono',consolas,'Courier New',monospace\"><span style=\"font-weight: bold\"> Trainable params: </span><span style=\"color: #00af00; text-decoration-color: #00af00\">1,313,025</span> (5.01 MB)\n",
       "</pre>\n"
      ],
      "text/plain": [
       "\u001b[1m Trainable params: \u001b[0m\u001b[38;5;34m1,313,025\u001b[0m (5.01 MB)\n"
      ]
     },
     "metadata": {},
     "output_type": "display_data"
    },
    {
     "data": {
      "text/html": [
       "<pre style=\"white-space:pre;overflow-x:auto;line-height:normal;font-family:Menlo,'DejaVu Sans Mono',consolas,'Courier New',monospace\"><span style=\"font-weight: bold\"> Non-trainable params: </span><span style=\"color: #00af00; text-decoration-color: #00af00\">0</span> (0.00 B)\n",
       "</pre>\n"
      ],
      "text/plain": [
       "\u001b[1m Non-trainable params: \u001b[0m\u001b[38;5;34m0\u001b[0m (0.00 B)\n"
      ]
     },
     "metadata": {},
     "output_type": "display_data"
    },
    {
     "data": {
      "text/html": [
       "<pre style=\"white-space:pre;overflow-x:auto;line-height:normal;font-family:Menlo,'DejaVu Sans Mono',consolas,'Courier New',monospace\"><span style=\"font-weight: bold\"> Optimizer params: </span><span style=\"color: #00af00; text-decoration-color: #00af00\">2</span> (12.00 B)\n",
       "</pre>\n"
      ],
      "text/plain": [
       "\u001b[1m Optimizer params: \u001b[0m\u001b[38;5;34m2\u001b[0m (12.00 B)\n"
      ]
     },
     "metadata": {},
     "output_type": "display_data"
    }
   ],
   "source": [
    "# Load the pre-trained model with ReLU activation\n",
    "model = tf.keras.models.load_model('simple_rnn_imdb.h5')\n",
    "model.summary()"
   ]
  },
  {
   "cell_type": "code",
   "execution_count": 26,
   "metadata": {},
   "outputs": [
    {
     "data": {
      "text/plain": [
       "[array([[ 0.06691301, -0.02831873, -0.05368182, ..., -0.00232687,\n",
       "          0.05292898, -0.0733423 ],\n",
       "        [-0.00253803, -0.0446543 ,  0.03323289, ..., -0.02146432,\n",
       "         -0.01310618,  0.00947605],\n",
       "        [ 0.0437101 , -0.04660941,  0.01907586, ..., -0.02968349,\n",
       "         -0.02911054,  0.00721834],\n",
       "        ...,\n",
       "        [-0.01580895, -0.02492995,  0.01335341, ..., -0.02876123,\n",
       "          0.00315922, -0.0063871 ],\n",
       "        [ 0.02052964,  0.00171111,  0.01003363, ...,  0.00141743,\n",
       "          0.02677591, -0.01424904],\n",
       "        [ 0.00154631,  0.02493684, -0.01812165, ...,  0.03527247,\n",
       "         -0.00204324,  0.03459101]], shape=(10000, 128), dtype=float32),\n",
       " array([[-0.0560834 , -0.07374515,  0.02061553, ..., -0.08800851,\n",
       "          0.06556937, -0.12634785],\n",
       "        [ 0.15864377,  0.01679661,  0.10304693, ..., -0.06858113,\n",
       "         -0.13350518,  0.00860199],\n",
       "        [ 0.10251921,  0.09546478, -0.05153339, ...,  0.04902771,\n",
       "         -0.11861224, -0.09301464],\n",
       "        ...,\n",
       "        [-0.02470387, -0.03100493,  0.07714643, ...,  0.14448527,\n",
       "         -0.00271695,  0.03988387],\n",
       "        [-0.0810365 ,  0.00896215,  0.00148258, ...,  0.09696586,\n",
       "         -0.10693912,  0.04290072],\n",
       "        [ 0.0856262 ,  0.10572306,  0.07177921, ...,  0.09873059,\n",
       "          0.09304065, -0.05962047]], shape=(128, 128), dtype=float32),\n",
       " array([[ 0.16385669, -0.06652788,  0.09374049, ...,  0.04006616,\n",
       "          0.03148912,  0.09762787],\n",
       "        [ 0.00509316,  0.02666128, -0.05031784, ...,  0.10066412,\n",
       "         -0.04736842,  0.0224621 ],\n",
       "        [ 0.10134003,  0.17232808, -0.08742675, ..., -0.10804946,\n",
       "          0.03526344,  0.02238166],\n",
       "        ...,\n",
       "        [-0.04901293, -0.04671642,  0.00493814, ..., -0.00164878,\n",
       "          0.09471379, -0.08016817],\n",
       "        [ 0.06897013, -0.09050145,  0.08564894, ..., -0.16488905,\n",
       "          0.10725242, -0.11042881],\n",
       "        [-0.06368651,  0.17481469,  0.06019411, ..., -0.09299201,\n",
       "          0.01610613, -0.01952647]], shape=(128, 128), dtype=float32),\n",
       " array([-3.14276223e-03, -8.48604273e-03,  4.18106606e-03,  3.05182673e-03,\n",
       "         8.84345965e-04,  5.86767681e-03,  1.65367580e-03,  6.41621882e-03,\n",
       "        -4.97175660e-03,  1.19849797e-02, -3.82339791e-03,  1.06157530e-02,\n",
       "        -2.57971231e-03,  3.86678544e-03,  1.28877321e-02,  9.19373648e-04,\n",
       "        -3.14953714e-03,  1.40761444e-02, -6.49291615e-04, -2.14065803e-04,\n",
       "         2.78430781e-03, -2.64092511e-03,  1.69921815e-02,  2.17353413e-03,\n",
       "         7.73040485e-03, -2.19307328e-03, -2.15311185e-03,  3.27678754e-05,\n",
       "        -8.58144427e-04, -1.18628028e-03,  1.33011080e-02,  8.77510663e-03,\n",
       "        -7.01415306e-03,  8.40501115e-03,  5.04332548e-03,  1.97117930e-04,\n",
       "         4.53649601e-03,  2.07206141e-03, -1.32124836e-03, -6.70140609e-03,\n",
       "        -1.19766069e-03, -8.05058982e-03, -2.55079777e-03,  1.85287802e-03,\n",
       "        -8.75994156e-04,  1.37450537e-02,  1.76109024e-04,  4.62727062e-03,\n",
       "         7.24893762e-03,  7.85142276e-03, -4.73507540e-03,  3.01733194e-03,\n",
       "         7.22207408e-03, -9.48195532e-03,  9.93799139e-03,  4.00500232e-03,\n",
       "        -7.69552635e-03,  2.93339207e-03,  3.28469859e-03,  6.78333268e-03,\n",
       "         1.22104920e-02,  1.12588219e-02, -6.33018930e-03, -2.85144569e-03,\n",
       "         6.78520603e-03,  4.25171014e-03, -4.61542793e-03,  4.67582839e-03,\n",
       "         4.57575219e-03, -5.02667099e-04,  8.66495445e-03,  3.99401179e-03,\n",
       "         7.17550982e-03,  1.22925118e-02,  9.87770618e-04,  3.79106635e-03,\n",
       "         1.59966364e-03,  1.43432349e-03,  1.05383229e-02,  2.68824934e-03,\n",
       "         4.69918037e-03,  1.24888141e-02, -8.87701567e-03,  7.32578617e-03,\n",
       "        -8.17326829e-03, -1.61803688e-03,  3.63597646e-03,  7.39847124e-03,\n",
       "         1.66004375e-02,  1.56737387e-03,  5.58411703e-03,  4.29998199e-03,\n",
       "        -8.54529208e-04, -1.17844623e-03, -2.00360618e-03,  4.09079622e-03,\n",
       "        -3.09993792e-03,  8.28181580e-03,  8.40391312e-03,  7.70189753e-03,\n",
       "        -1.54809430e-04, -1.25446692e-04,  5.21888863e-03, -4.99497226e-04,\n",
       "         6.03162742e-04,  5.87678188e-03,  1.08875494e-04, -2.19888054e-03,\n",
       "        -1.09107066e-02,  9.08900425e-03,  1.25202853e-02,  1.30674317e-02,\n",
       "        -3.56209162e-03, -1.02485828e-02, -9.34485142e-05,  3.83666763e-03,\n",
       "         6.07121410e-03,  1.52218097e-03,  3.36250989e-04, -4.70095081e-03,\n",
       "         1.27075560e-04, -3.34096118e-03,  4.22213785e-03, -5.02430485e-04,\n",
       "         7.98753370e-03, -1.43195689e-03, -1.84833165e-03, -5.38224168e-03],\n",
       "       dtype=float32),\n",
       " array([[-0.2628027 ],\n",
       "        [-0.03295273],\n",
       "        [-0.2362725 ],\n",
       "        [ 0.19864759],\n",
       "        [-0.06116226],\n",
       "        [ 0.21918166],\n",
       "        [-0.09969242],\n",
       "        [-0.16501905],\n",
       "        [ 0.11815085],\n",
       "        [ 0.04638387],\n",
       "        [ 0.02799464],\n",
       "        [ 0.30047068],\n",
       "        [-0.04736977],\n",
       "        [ 0.301609  ],\n",
       "        [-0.01187518],\n",
       "        [ 0.11389519],\n",
       "        [-0.23440938],\n",
       "        [ 0.05820765],\n",
       "        [-0.24417138],\n",
       "        [-0.00387778],\n",
       "        [ 0.11256861],\n",
       "        [-0.08160414],\n",
       "        [-0.02705996],\n",
       "        [ 0.05377503],\n",
       "        [ 0.27075702],\n",
       "        [-0.04551234],\n",
       "        [-0.027698  ],\n",
       "        [ 0.12159207],\n",
       "        [-0.03946231],\n",
       "        [ 0.07638118],\n",
       "        [ 0.19665807],\n",
       "        [ 0.13182236],\n",
       "        [-0.03399574],\n",
       "        [-0.14496908],\n",
       "        [-0.17176475],\n",
       "        [-0.0566564 ],\n",
       "        [-0.13617675],\n",
       "        [-0.16634537],\n",
       "        [-0.0454658 ],\n",
       "        [-0.00144679],\n",
       "        [ 0.06426886],\n",
       "        [-0.08749013],\n",
       "        [-0.07822696],\n",
       "        [-0.24891022],\n",
       "        [-0.11059532],\n",
       "        [ 0.30194905],\n",
       "        [ 0.14090435],\n",
       "        [-0.2622261 ],\n",
       "        [ 0.11081304],\n",
       "        [-0.23091237],\n",
       "        [-0.01140304],\n",
       "        [-0.12089321],\n",
       "        [-0.19834183],\n",
       "        [-0.13865115],\n",
       "        [ 0.30014372],\n",
       "        [-0.30406803],\n",
       "        [-0.17762014],\n",
       "        [-0.26968634],\n",
       "        [-0.28778931],\n",
       "        [ 0.12867051],\n",
       "        [ 0.27039593],\n",
       "        [ 0.22214721],\n",
       "        [-0.18797214],\n",
       "        [-0.23534743],\n",
       "        [-0.12484345],\n",
       "        [-0.22600812],\n",
       "        [ 0.18511118],\n",
       "        [ 0.0570305 ],\n",
       "        [ 0.22976284],\n",
       "        [ 0.18124112],\n",
       "        [-0.12245676],\n",
       "        [ 0.02217685],\n",
       "        [-0.13931794],\n",
       "        [-0.04980981],\n",
       "        [-0.134446  ],\n",
       "        [ 0.11125489],\n",
       "        [-0.24110214],\n",
       "        [-0.2631733 ],\n",
       "        [ 0.19308412],\n",
       "        [ 0.09929523],\n",
       "        [ 0.23469727],\n",
       "        [ 0.07353114],\n",
       "        [ 0.11697149],\n",
       "        [ 0.2427227 ],\n",
       "        [ 0.19446316],\n",
       "        [-0.02471763],\n",
       "        [ 0.19470176],\n",
       "        [ 0.23675239],\n",
       "        [ 0.20938945],\n",
       "        [-0.2098996 ],\n",
       "        [-0.01801366],\n",
       "        [ 0.16984852],\n",
       "        [-0.14058478],\n",
       "        [ 0.13861778],\n",
       "        [-0.27209213],\n",
       "        [ 0.20172068],\n",
       "        [-0.01681636],\n",
       "        [ 0.29481122],\n",
       "        [-0.2445665 ],\n",
       "        [ 0.11069166],\n",
       "        [-0.1762997 ],\n",
       "        [ 0.08566946],\n",
       "        [-0.05137319],\n",
       "        [-0.28900632],\n",
       "        [-0.14818348],\n",
       "        [ 0.24429734],\n",
       "        [-0.05687236],\n",
       "        [ 0.05285748],\n",
       "        [-0.19141683],\n",
       "        [-0.00320261],\n",
       "        [ 0.2709318 ],\n",
       "        [ 0.1771007 ],\n",
       "        [-0.03636459],\n",
       "        [-0.11451495],\n",
       "        [-0.00484748],\n",
       "        [-0.17652974],\n",
       "        [-0.11984053],\n",
       "        [ 0.05508935],\n",
       "        [-0.04379946],\n",
       "        [-0.00271815],\n",
       "        [-0.20551346],\n",
       "        [-0.16047364],\n",
       "        [-0.18034895],\n",
       "        [ 0.21313024],\n",
       "        [ 0.2882284 ],\n",
       "        [ 0.01661301],\n",
       "        [ 0.2502454 ],\n",
       "        [ 0.0023883 ]], dtype=float32),\n",
       " array([0.00366883], dtype=float32)]"
      ]
     },
     "execution_count": 26,
     "metadata": {},
     "output_type": "execute_result"
    }
   ],
   "source": [
    "model.get_weights()"
   ]
  },
  {
   "cell_type": "code",
   "execution_count": 27,
   "metadata": {},
   "outputs": [],
   "source": [
    "# Step 2: Helper Functions\n",
    "# Function to decode reviews\n",
    "def decode_review(encoded_review):\n",
    "    return ' '.join([reverse_word_index.get(i - 3, '?') for i in encoded_review])\n",
    "\n",
    "# Function to preprocess user input\n",
    "def preprocess_text(text):\n",
    "    words = text.lower().split()\n",
    "    encoded_review = [word_index.get(word, 2) + 3 for word in words]\n",
    "    padded_review = sequence.pad_sequences([encoded_review], maxlen=500)\n",
    "    return padded_review"
   ]
  },
  {
   "cell_type": "code",
   "execution_count": 28,
   "metadata": {},
   "outputs": [],
   "source": [
    "### Prediction  function\n",
    "\n",
    "def predict_sentiment(review):\n",
    "    preprocessed_input=preprocess_text(review)\n",
    "\n",
    "    prediction=model.predict(preprocessed_input)\n",
    "    print(prediction)\n",
    "    sentiment = 'Positive' if prediction[0][0] > 0.5 else 'Negative'\n",
    "    \n",
    "    return sentiment, prediction[0][0]\n",
    "\n"
   ]
  },
  {
   "cell_type": "code",
   "execution_count": 33,
   "metadata": {},
   "outputs": [
    {
     "name": "stdout",
     "output_type": "stream",
     "text": [
      "\u001b[1m1/1\u001b[0m \u001b[32m━━━━━━━━━━━━━━━━━━━━\u001b[0m\u001b[37m\u001b[0m \u001b[1m0s\u001b[0m 35ms/step\n",
      "[[0.56655276]]\n",
      "Review: This movie was fantastic! The acting was great and the plot was thrilling.\n",
      "Sentiment: Positive\n",
      "Prediction Score: 56.655277252197266\n"
     ]
    }
   ],
   "source": [
    "# Step 4: User Input and Prediction\n",
    "# Example review for prediction\n",
    "example_review = \"This movie was fantastic! The acting was great and the plot was thrilling.\"\n",
    "\n",
    "sentiment,score=predict_sentiment(example_review)\n",
    "score=score*100\n",
    "print(f'Review: {example_review}')\n",
    "print(f'Sentiment: {sentiment}')\n",
    "print(f'Prediction Score: {score}')"
   ]
  },
  {
   "cell_type": "code",
   "execution_count": null,
   "metadata": {},
   "outputs": [
    {
     "data": {
      "text/plain": [
       "'c:\\\\Users\\\\DELL\\\\Udemy\\\\Python\\\\simpleRNN'"
      ]
     },
     "execution_count": 20,
     "metadata": {},
     "output_type": "execute_result"
    }
   ],
   "source": []
  },
  {
   "cell_type": "code",
   "execution_count": null,
   "metadata": {},
   "outputs": [],
   "source": []
  },
  {
   "cell_type": "code",
   "execution_count": null,
   "metadata": {},
   "outputs": [],
   "source": []
  },
  {
   "cell_type": "code",
   "execution_count": null,
   "metadata": {},
   "outputs": [],
   "source": []
  }
 ],
 "metadata": {
  "kernelspec": {
   "display_name": "Python 3",
   "language": "python",
   "name": "python3"
  },
  "language_info": {
   "codemirror_mode": {
    "name": "ipython",
    "version": 3
   },
   "file_extension": ".py",
   "mimetype": "text/x-python",
   "name": "python",
   "nbconvert_exporter": "python",
   "pygments_lexer": "ipython3",
   "version": "3.13.0"
  }
 },
 "nbformat": 4,
 "nbformat_minor": 2
}

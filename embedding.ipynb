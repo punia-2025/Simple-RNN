{
 "cells": [
  {
   "cell_type": "markdown",
   "metadata": {},
   "source": []
  },
  {
   "cell_type": "code",
   "execution_count": 77,
   "metadata": {},
   "outputs": [],
   "source": [
    "from tensorflow.keras.preprocessing.text import one_hot"
   ]
  },
  {
   "cell_type": "code",
   "execution_count": 78,
   "metadata": {},
   "outputs": [],
   "source": [
    "### sentences\n",
    "sent=[  'the glass of milk',\n",
    "     'the glass of juice',\n",
    "     'the cup of tea',\n",
    "    'I am a good boy',\n",
    "     'I am a good developer',\n",
    "     'understand the meaning of words',\n",
    "     'your videos are good',]"
   ]
  },
  {
   "cell_type": "code",
   "execution_count": 79,
   "metadata": {},
   "outputs": [
    {
     "data": {
      "text/plain": [
       "['the glass of milk',\n",
       " 'the glass of juice',\n",
       " 'the cup of tea',\n",
       " 'I am a good boy',\n",
       " 'I am a good developer',\n",
       " 'understand the meaning of words',\n",
       " 'your videos are good']"
      ]
     },
     "execution_count": 79,
     "metadata": {},
     "output_type": "execute_result"
    }
   ],
   "source": [
    "sent"
   ]
  },
  {
   "cell_type": "code",
   "execution_count": 80,
   "metadata": {},
   "outputs": [],
   "source": [
    "## Define the vocabulary size\n",
    "voc_size=10000"
   ]
  },
  {
   "cell_type": "code",
   "execution_count": 81,
   "metadata": {},
   "outputs": [
    {
     "data": {
      "text/plain": [
       "['the glass of milk',\n",
       " 'the glass of juice',\n",
       " 'the cup of tea',\n",
       " 'I am a good boy',\n",
       " 'I am a good developer',\n",
       " 'understand the meaning of words',\n",
       " 'your videos are good']"
      ]
     },
     "execution_count": 81,
     "metadata": {},
     "output_type": "execute_result"
    }
   ],
   "source": [
    "sent"
   ]
  },
  {
   "cell_type": "code",
   "execution_count": 82,
   "metadata": {},
   "outputs": [
    {
     "data": {
      "text/plain": [
       "[[5426, 8825, 9450, 370],\n",
       " [5426, 8825, 9450, 1316],\n",
       " [5426, 2296, 9450, 201],\n",
       " [1714, 738, 9624, 3192, 5798],\n",
       " [1714, 738, 9624, 3192, 6060],\n",
       " [9966, 5426, 7711, 9450, 8562],\n",
       " [4049, 9692, 3049, 3192]]"
      ]
     },
     "execution_count": 82,
     "metadata": {},
     "output_type": "execute_result"
    }
   ],
   "source": [
    "### One Hot Representation\n",
    "one_hot_repr=[one_hot(words,voc_size)for words in sent]\n",
    "one_hot_repr"
   ]
  },
  {
   "cell_type": "code",
   "execution_count": 83,
   "metadata": {},
   "outputs": [],
   "source": [
    "## word Embedding Representation\n",
    "\n",
    "from tensorflow.keras.layers import Embedding\n",
    "#from tensorflow.keras.processing.sequence import pad_sequences\n",
    "from tensorflow.keras.utils import pad_sequences\n",
    "from tensorflow.keras.models import Sequential"
   ]
  },
  {
   "cell_type": "code",
   "execution_count": 84,
   "metadata": {},
   "outputs": [],
   "source": [
    "import numpy as np"
   ]
  },
  {
   "cell_type": "code",
   "execution_count": 85,
   "metadata": {},
   "outputs": [
    {
     "name": "stdout",
     "output_type": "stream",
     "text": [
      "[[   0    0    0    0 5426 8825 9450  370]\n",
      " [   0    0    0    0 5426 8825 9450 1316]\n",
      " [   0    0    0    0 5426 2296 9450  201]\n",
      " [   0    0    0 1714  738 9624 3192 5798]\n",
      " [   0    0    0 1714  738 9624 3192 6060]\n",
      " [   0    0    0 9966 5426 7711 9450 8562]\n",
      " [   0    0    0    0 4049 9692 3049 3192]]\n"
     ]
    }
   ],
   "source": [
    "sent_length=8\n",
    "embedded_docs=pad_sequences(one_hot_repr,padding='pre',maxlen=sent_length)\n",
    "print(embedded_docs)"
   ]
  },
  {
   "cell_type": "code",
   "execution_count": 86,
   "metadata": {},
   "outputs": [],
   "source": [
    "## feature representation\n",
    "dim=10"
   ]
  },
  {
   "cell_type": "code",
   "execution_count": 87,
   "metadata": {},
   "outputs": [],
   "source": [
    "model=Sequential()\n",
    "model.add(Embedding(voc_size,dim,input_length=sent_length))\n",
    "model.compile('adam','mse')"
   ]
  },
  {
   "cell_type": "code",
   "execution_count": 88,
   "metadata": {},
   "outputs": [
    {
     "data": {
      "text/html": [
       "<pre style=\"white-space:pre;overflow-x:auto;line-height:normal;font-family:Menlo,'DejaVu Sans Mono',consolas,'Courier New',monospace\"><span style=\"font-weight: bold\">Model: \"sequential_8\"</span>\n",
       "</pre>\n"
      ],
      "text/plain": [
       "\u001b[1mModel: \"sequential_8\"\u001b[0m\n"
      ]
     },
     "metadata": {},
     "output_type": "display_data"
    },
    {
     "data": {
      "text/html": [
       "<pre style=\"white-space:pre;overflow-x:auto;line-height:normal;font-family:Menlo,'DejaVu Sans Mono',consolas,'Courier New',monospace\">┏━━━━━━━━━━━━━━━━━━━━━━━━━━━━━━━━━┳━━━━━━━━━━━━━━━━━━━━━━━━┳━━━━━━━━━━━━━━━┓\n",
       "┃<span style=\"font-weight: bold\"> Layer (type)                    </span>┃<span style=\"font-weight: bold\"> Output Shape           </span>┃<span style=\"font-weight: bold\">       Param # </span>┃\n",
       "┡━━━━━━━━━━━━━━━━━━━━━━━━━━━━━━━━━╇━━━━━━━━━━━━━━━━━━━━━━━━╇━━━━━━━━━━━━━━━┩\n",
       "│ embedding_8 (<span style=\"color: #0087ff; text-decoration-color: #0087ff\">Embedding</span>)         │ ?                      │   <span style=\"color: #00af00; text-decoration-color: #00af00\">0</span> (unbuilt) │\n",
       "└─────────────────────────────────┴────────────────────────┴───────────────┘\n",
       "</pre>\n"
      ],
      "text/plain": [
       "┏━━━━━━━━━━━━━━━━━━━━━━━━━━━━━━━━━┳━━━━━━━━━━━━━━━━━━━━━━━━┳━━━━━━━━━━━━━━━┓\n",
       "┃\u001b[1m \u001b[0m\u001b[1mLayer (type)                   \u001b[0m\u001b[1m \u001b[0m┃\u001b[1m \u001b[0m\u001b[1mOutput Shape          \u001b[0m\u001b[1m \u001b[0m┃\u001b[1m \u001b[0m\u001b[1m      Param #\u001b[0m\u001b[1m \u001b[0m┃\n",
       "┡━━━━━━━━━━━━━━━━━━━━━━━━━━━━━━━━━╇━━━━━━━━━━━━━━━━━━━━━━━━╇━━━━━━━━━━━━━━━┩\n",
       "│ embedding_8 (\u001b[38;5;33mEmbedding\u001b[0m)         │ ?                      │   \u001b[38;5;34m0\u001b[0m (unbuilt) │\n",
       "└─────────────────────────────────┴────────────────────────┴───────────────┘\n"
      ]
     },
     "metadata": {},
     "output_type": "display_data"
    },
    {
     "data": {
      "text/html": [
       "<pre style=\"white-space:pre;overflow-x:auto;line-height:normal;font-family:Menlo,'DejaVu Sans Mono',consolas,'Courier New',monospace\"><span style=\"font-weight: bold\"> Total params: </span><span style=\"color: #00af00; text-decoration-color: #00af00\">0</span> (0.00 B)\n",
       "</pre>\n"
      ],
      "text/plain": [
       "\u001b[1m Total params: \u001b[0m\u001b[38;5;34m0\u001b[0m (0.00 B)\n"
      ]
     },
     "metadata": {},
     "output_type": "display_data"
    },
    {
     "data": {
      "text/html": [
       "<pre style=\"white-space:pre;overflow-x:auto;line-height:normal;font-family:Menlo,'DejaVu Sans Mono',consolas,'Courier New',monospace\"><span style=\"font-weight: bold\"> Trainable params: </span><span style=\"color: #00af00; text-decoration-color: #00af00\">0</span> (0.00 B)\n",
       "</pre>\n"
      ],
      "text/plain": [
       "\u001b[1m Trainable params: \u001b[0m\u001b[38;5;34m0\u001b[0m (0.00 B)\n"
      ]
     },
     "metadata": {},
     "output_type": "display_data"
    },
    {
     "data": {
      "text/html": [
       "<pre style=\"white-space:pre;overflow-x:auto;line-height:normal;font-family:Menlo,'DejaVu Sans Mono',consolas,'Courier New',monospace\"><span style=\"font-weight: bold\"> Non-trainable params: </span><span style=\"color: #00af00; text-decoration-color: #00af00\">0</span> (0.00 B)\n",
       "</pre>\n"
      ],
      "text/plain": [
       "\u001b[1m Non-trainable params: \u001b[0m\u001b[38;5;34m0\u001b[0m (0.00 B)\n"
      ]
     },
     "metadata": {},
     "output_type": "display_data"
    }
   ],
   "source": [
    "model.summary()"
   ]
  },
  {
   "cell_type": "code",
   "execution_count": 89,
   "metadata": {},
   "outputs": [
    {
     "name": "stdout",
     "output_type": "stream",
     "text": [
      "\u001b[1m1/1\u001b[0m \u001b[32m━━━━━━━━━━━━━━━━━━━━\u001b[0m\u001b[37m\u001b[0m \u001b[1m0s\u001b[0m 86ms/step\n"
     ]
    },
    {
     "data": {
      "text/plain": [
       "array([[[ 0.0472951 ,  0.0233779 ,  0.00794063,  0.04214969,\n",
       "          0.03429636,  0.04192139, -0.03976528,  0.03448376,\n",
       "         -0.00571596, -0.02503462],\n",
       "        [ 0.0472951 ,  0.0233779 ,  0.00794063,  0.04214969,\n",
       "          0.03429636,  0.04192139, -0.03976528,  0.03448376,\n",
       "         -0.00571596, -0.02503462],\n",
       "        [ 0.0472951 ,  0.0233779 ,  0.00794063,  0.04214969,\n",
       "          0.03429636,  0.04192139, -0.03976528,  0.03448376,\n",
       "         -0.00571596, -0.02503462],\n",
       "        [ 0.0472951 ,  0.0233779 ,  0.00794063,  0.04214969,\n",
       "          0.03429636,  0.04192139, -0.03976528,  0.03448376,\n",
       "         -0.00571596, -0.02503462],\n",
       "        [ 0.04545101,  0.03344939, -0.03096868, -0.01726103,\n",
       "         -0.00455521,  0.04756233, -0.02296372,  0.00344499,\n",
       "          0.03826498, -0.02706074],\n",
       "        [-0.02139872,  0.00352744,  0.01629216,  0.03478572,\n",
       "         -0.01718819,  0.0453544 , -0.02972551,  0.04750198,\n",
       "          0.03204446,  0.02774673],\n",
       "        [ 0.0367124 ,  0.03826335, -0.03724508,  0.04532545,\n",
       "          0.01168754, -0.03255065, -0.04461084,  0.02210673,\n",
       "         -0.01321846, -0.01455507],\n",
       "        [-0.04609928,  0.00600457, -0.04359458,  0.00439482,\n",
       "         -0.03886238,  0.0406043 , -0.04902207,  0.02775184,\n",
       "          0.03443526, -0.00777037]],\n",
       "\n",
       "       [[ 0.0472951 ,  0.0233779 ,  0.00794063,  0.04214969,\n",
       "          0.03429636,  0.04192139, -0.03976528,  0.03448376,\n",
       "         -0.00571596, -0.02503462],\n",
       "        [ 0.0472951 ,  0.0233779 ,  0.00794063,  0.04214969,\n",
       "          0.03429636,  0.04192139, -0.03976528,  0.03448376,\n",
       "         -0.00571596, -0.02503462],\n",
       "        [ 0.0472951 ,  0.0233779 ,  0.00794063,  0.04214969,\n",
       "          0.03429636,  0.04192139, -0.03976528,  0.03448376,\n",
       "         -0.00571596, -0.02503462],\n",
       "        [ 0.0472951 ,  0.0233779 ,  0.00794063,  0.04214969,\n",
       "          0.03429636,  0.04192139, -0.03976528,  0.03448376,\n",
       "         -0.00571596, -0.02503462],\n",
       "        [ 0.04545101,  0.03344939, -0.03096868, -0.01726103,\n",
       "         -0.00455521,  0.04756233, -0.02296372,  0.00344499,\n",
       "          0.03826498, -0.02706074],\n",
       "        [-0.02139872,  0.00352744,  0.01629216,  0.03478572,\n",
       "         -0.01718819,  0.0453544 , -0.02972551,  0.04750198,\n",
       "          0.03204446,  0.02774673],\n",
       "        [ 0.0367124 ,  0.03826335, -0.03724508,  0.04532545,\n",
       "          0.01168754, -0.03255065, -0.04461084,  0.02210673,\n",
       "         -0.01321846, -0.01455507],\n",
       "        [ 0.03628442,  0.03615611,  0.02451385,  0.0245654 ,\n",
       "          0.00714106, -0.04220554,  0.03625956,  0.0147704 ,\n",
       "          0.01427637,  0.02116467]],\n",
       "\n",
       "       [[ 0.0472951 ,  0.0233779 ,  0.00794063,  0.04214969,\n",
       "          0.03429636,  0.04192139, -0.03976528,  0.03448376,\n",
       "         -0.00571596, -0.02503462],\n",
       "        [ 0.0472951 ,  0.0233779 ,  0.00794063,  0.04214969,\n",
       "          0.03429636,  0.04192139, -0.03976528,  0.03448376,\n",
       "         -0.00571596, -0.02503462],\n",
       "        [ 0.0472951 ,  0.0233779 ,  0.00794063,  0.04214969,\n",
       "          0.03429636,  0.04192139, -0.03976528,  0.03448376,\n",
       "         -0.00571596, -0.02503462],\n",
       "        [ 0.0472951 ,  0.0233779 ,  0.00794063,  0.04214969,\n",
       "          0.03429636,  0.04192139, -0.03976528,  0.03448376,\n",
       "         -0.00571596, -0.02503462],\n",
       "        [ 0.04545101,  0.03344939, -0.03096868, -0.01726103,\n",
       "         -0.00455521,  0.04756233, -0.02296372,  0.00344499,\n",
       "          0.03826498, -0.02706074],\n",
       "        [ 0.04415597, -0.01605694,  0.01832309, -0.03727202,\n",
       "         -0.04493206, -0.00740167,  0.00676065,  0.02095311,\n",
       "          0.03978029, -0.01612468],\n",
       "        [ 0.0367124 ,  0.03826335, -0.03724508,  0.04532545,\n",
       "          0.01168754, -0.03255065, -0.04461084,  0.02210673,\n",
       "         -0.01321846, -0.01455507],\n",
       "        [-0.01057272,  0.0006165 ,  0.01845584,  0.01955229,\n",
       "         -0.04959238, -0.02751145, -0.01117064, -0.03237605,\n",
       "          0.03703055, -0.04782683]],\n",
       "\n",
       "       [[ 0.0472951 ,  0.0233779 ,  0.00794063,  0.04214969,\n",
       "          0.03429636,  0.04192139, -0.03976528,  0.03448376,\n",
       "         -0.00571596, -0.02503462],\n",
       "        [ 0.0472951 ,  0.0233779 ,  0.00794063,  0.04214969,\n",
       "          0.03429636,  0.04192139, -0.03976528,  0.03448376,\n",
       "         -0.00571596, -0.02503462],\n",
       "        [ 0.0472951 ,  0.0233779 ,  0.00794063,  0.04214969,\n",
       "          0.03429636,  0.04192139, -0.03976528,  0.03448376,\n",
       "         -0.00571596, -0.02503462],\n",
       "        [-0.02386804,  0.04953567,  0.00311997,  0.0232407 ,\n",
       "         -0.00117167, -0.01560882,  0.00682403, -0.00393684,\n",
       "          0.00760307,  0.01060762],\n",
       "        [ 0.03698501, -0.02680405,  0.04623581,  0.02294611,\n",
       "          0.01145383,  0.03198704, -0.02361866, -0.02970882,\n",
       "         -0.02207655,  0.00314217],\n",
       "        [-0.00152067, -0.00601023,  0.00330318, -0.00012617,\n",
       "          0.00050265,  0.00638349,  0.0123836 , -0.03675866,\n",
       "          0.03875709,  0.03807629],\n",
       "        [ 0.03740693, -0.03328385,  0.00706508,  0.0009285 ,\n",
       "         -0.04011104, -0.02898647, -0.0249333 ,  0.03390122,\n",
       "          0.01037015,  0.04796049],\n",
       "        [-0.01583439,  0.02996365,  0.03050892,  0.01213742,\n",
       "         -0.0342857 ,  0.04817801,  0.03224045, -0.02314893,\n",
       "         -0.0394512 ,  0.03664989]],\n",
       "\n",
       "       [[ 0.0472951 ,  0.0233779 ,  0.00794063,  0.04214969,\n",
       "          0.03429636,  0.04192139, -0.03976528,  0.03448376,\n",
       "         -0.00571596, -0.02503462],\n",
       "        [ 0.0472951 ,  0.0233779 ,  0.00794063,  0.04214969,\n",
       "          0.03429636,  0.04192139, -0.03976528,  0.03448376,\n",
       "         -0.00571596, -0.02503462],\n",
       "        [ 0.0472951 ,  0.0233779 ,  0.00794063,  0.04214969,\n",
       "          0.03429636,  0.04192139, -0.03976528,  0.03448376,\n",
       "         -0.00571596, -0.02503462],\n",
       "        [-0.02386804,  0.04953567,  0.00311997,  0.0232407 ,\n",
       "         -0.00117167, -0.01560882,  0.00682403, -0.00393684,\n",
       "          0.00760307,  0.01060762],\n",
       "        [ 0.03698501, -0.02680405,  0.04623581,  0.02294611,\n",
       "          0.01145383,  0.03198704, -0.02361866, -0.02970882,\n",
       "         -0.02207655,  0.00314217],\n",
       "        [-0.00152067, -0.00601023,  0.00330318, -0.00012617,\n",
       "          0.00050265,  0.00638349,  0.0123836 , -0.03675866,\n",
       "          0.03875709,  0.03807629],\n",
       "        [ 0.03740693, -0.03328385,  0.00706508,  0.0009285 ,\n",
       "         -0.04011104, -0.02898647, -0.0249333 ,  0.03390122,\n",
       "          0.01037015,  0.04796049],\n",
       "        [ 0.03279886, -0.04516649,  0.03408508, -0.01066617,\n",
       "          0.02543711, -0.02501055,  0.04686711, -0.04291826,\n",
       "         -0.01140218,  0.03334475]],\n",
       "\n",
       "       [[ 0.0472951 ,  0.0233779 ,  0.00794063,  0.04214969,\n",
       "          0.03429636,  0.04192139, -0.03976528,  0.03448376,\n",
       "         -0.00571596, -0.02503462],\n",
       "        [ 0.0472951 ,  0.0233779 ,  0.00794063,  0.04214969,\n",
       "          0.03429636,  0.04192139, -0.03976528,  0.03448376,\n",
       "         -0.00571596, -0.02503462],\n",
       "        [ 0.0472951 ,  0.0233779 ,  0.00794063,  0.04214969,\n",
       "          0.03429636,  0.04192139, -0.03976528,  0.03448376,\n",
       "         -0.00571596, -0.02503462],\n",
       "        [-0.02719039,  0.02612883, -0.00792237,  0.01933679,\n",
       "         -0.0491227 , -0.02373946, -0.00499175,  0.0118733 ,\n",
       "          0.04889261,  0.03231506],\n",
       "        [ 0.04545101,  0.03344939, -0.03096868, -0.01726103,\n",
       "         -0.00455521,  0.04756233, -0.02296372,  0.00344499,\n",
       "          0.03826498, -0.02706074],\n",
       "        [-0.00534066, -0.01768934,  0.00365096, -0.04423677,\n",
       "          0.01298925,  0.03920871, -0.03722678,  0.04749804,\n",
       "         -0.00010558, -0.01293522],\n",
       "        [ 0.0367124 ,  0.03826335, -0.03724508,  0.04532545,\n",
       "          0.01168754, -0.03255065, -0.04461084,  0.02210673,\n",
       "         -0.01321846, -0.01455507],\n",
       "        [ 0.04445278, -0.00679258, -0.00294765, -0.02773199,\n",
       "          0.02551993,  0.00679825, -0.03018763, -0.00017581,\n",
       "         -0.0054694 , -0.04829773]],\n",
       "\n",
       "       [[ 0.0472951 ,  0.0233779 ,  0.00794063,  0.04214969,\n",
       "          0.03429636,  0.04192139, -0.03976528,  0.03448376,\n",
       "         -0.00571596, -0.02503462],\n",
       "        [ 0.0472951 ,  0.0233779 ,  0.00794063,  0.04214969,\n",
       "          0.03429636,  0.04192139, -0.03976528,  0.03448376,\n",
       "         -0.00571596, -0.02503462],\n",
       "        [ 0.0472951 ,  0.0233779 ,  0.00794063,  0.04214969,\n",
       "          0.03429636,  0.04192139, -0.03976528,  0.03448376,\n",
       "         -0.00571596, -0.02503462],\n",
       "        [ 0.0472951 ,  0.0233779 ,  0.00794063,  0.04214969,\n",
       "          0.03429636,  0.04192139, -0.03976528,  0.03448376,\n",
       "         -0.00571596, -0.02503462],\n",
       "        [ 0.04706636,  0.02290419, -0.03334903, -0.04020715,\n",
       "         -0.03222875, -0.03433577, -0.00360473, -0.01705913,\n",
       "         -0.03188504,  0.01192073],\n",
       "        [ 0.00821813, -0.0027579 ,  0.02124662, -0.02549404,\n",
       "         -0.04279512, -0.0288842 , -0.00517259, -0.0060272 ,\n",
       "         -0.0451133 ,  0.04584745],\n",
       "        [ 0.0013801 , -0.01525563, -0.04857692,  0.01344078,\n",
       "          0.0159454 ,  0.00789424,  0.0448468 ,  0.00290375,\n",
       "         -0.00716882,  0.04797005],\n",
       "        [ 0.03740693, -0.03328385,  0.00706508,  0.0009285 ,\n",
       "         -0.04011104, -0.02898647, -0.0249333 ,  0.03390122,\n",
       "          0.01037015,  0.04796049]]], dtype=float32)"
      ]
     },
     "execution_count": 89,
     "metadata": {},
     "output_type": "execute_result"
    }
   ],
   "source": [
    "model.predict(embedded_docs)"
   ]
  },
  {
   "cell_type": "code",
   "execution_count": 90,
   "metadata": {},
   "outputs": [
    {
     "data": {
      "text/plain": [
       "array([   0,    0,    0,    0, 5426, 8825, 9450,  370], dtype=int32)"
      ]
     },
     "execution_count": 90,
     "metadata": {},
     "output_type": "execute_result"
    }
   ],
   "source": [
    "embedded_docs[0]"
   ]
  },
  {
   "cell_type": "code",
   "execution_count": 91,
   "metadata": {},
   "outputs": [
    {
     "name": "stdout",
     "output_type": "stream",
     "text": [
      "\u001b[1m1/1\u001b[0m \u001b[32m━━━━━━━━━━━━━━━━━━━━\u001b[0m\u001b[37m\u001b[0m \u001b[1m0s\u001b[0m 51ms/step\n",
      "Prediction successful: [[[ 0.0472951   0.0233779   0.00794063  0.04214969  0.03429636\n",
      "    0.04192139 -0.03976528  0.03448376 -0.00571596 -0.02503462]\n",
      "  [ 0.0472951   0.0233779   0.00794063  0.04214969  0.03429636\n",
      "    0.04192139 -0.03976528  0.03448376 -0.00571596 -0.02503462]\n",
      "  [ 0.0472951   0.0233779   0.00794063  0.04214969  0.03429636\n",
      "    0.04192139 -0.03976528  0.03448376 -0.00571596 -0.02503462]\n",
      "  [ 0.0472951   0.0233779   0.00794063  0.04214969  0.03429636\n",
      "    0.04192139 -0.03976528  0.03448376 -0.00571596 -0.02503462]\n",
      "  [ 0.04545101  0.03344939 -0.03096868 -0.01726103 -0.00455521\n",
      "    0.04756233 -0.02296372  0.00344499  0.03826498 -0.02706074]\n",
      "  [-0.02139872  0.00352744  0.01629216  0.03478572 -0.01718819\n",
      "    0.0453544  -0.02972551  0.04750198  0.03204446  0.02774673]\n",
      "  [ 0.0367124   0.03826335 -0.03724508  0.04532545  0.01168754\n",
      "   -0.03255065 -0.04461084  0.02210673 -0.01321846 -0.01455507]\n",
      "  [-0.04609928  0.00600457 -0.04359458  0.00439482 -0.03886238\n",
      "    0.0406043  -0.04902207  0.02775184  0.03443526 -0.00777037]]]\n"
     ]
    }
   ],
   "source": [
    "#model.predict(embedded_docs[0])\n",
    "\n",
    "\n",
    "# # Step 1: Examine your data\n",
    "# print(\"=== INPUT ANALYSIS ===\")\n",
    "# print(f\"embedded_docs type: {type(embedded_docs)}\")\n",
    "# print(f\"embedded_docs length: {len(embedded_docs)}\")\n",
    "# print(f\"First element type: {type(embedded_docs[0])}\")\n",
    "# print(f\"First element shape: {getattr(embedded_docs[0], 'shape', 'No shape attribute')}\")\n",
    "\n",
    "# # Step 2: Examine your model\n",
    "# print(\"\\n=== MODEL ANALYSIS ===\")\n",
    "# print(f\"Model input shape: {model.input_shape}\")\n",
    "# print(f\"Model summary:\")\n",
    "# model.summary()\n",
    "\n",
    "# Step 3: Prepare input correctly\n",
    "try:\n",
    "    # Convert to numpy array if needed\n",
    "    if not isinstance(embedded_docs[0], (np.ndarray, tf.Tensor)):\n",
    "        input_data = np.array(embedded_docs[0])\n",
    "    else:\n",
    "        input_data = embedded_docs[0]\n",
    "    \n",
    "    # Add batch dimension if needed\n",
    "    if len(input_data.shape) == len(model.input_shape) - 1:\n",
    "        input_data = np.expand_dims(input_data, axis=0)\n",
    "    \n",
    "    # Make prediction\n",
    "    prediction = model.predict(input_data)\n",
    "    print(f\"Prediction successful: {prediction}\")\n",
    "    \n",
    "except Exception as e:\n",
    "    print(f\"Error: {e}\")\n",
    "    print(\"Try reshaping your input data to match model expectations\")"
   ]
  },
  {
   "cell_type": "code",
   "execution_count": null,
   "metadata": {},
   "outputs": [],
   "source": []
  }
 ],
 "metadata": {
  "kernelspec": {
   "display_name": "Python 3",
   "language": "python",
   "name": "python3"
  },
  "language_info": {
   "codemirror_mode": {
    "name": "ipython",
    "version": 3
   },
   "file_extension": ".py",
   "mimetype": "text/x-python",
   "name": "python",
   "nbconvert_exporter": "python",
   "pygments_lexer": "ipython3",
   "version": "3.11.0"
  }
 },
 "nbformat": 4,
 "nbformat_minor": 2
}
